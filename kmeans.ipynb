{
  "cells": [
    {
      "cell_type": "code",
      "execution_count": 255,
      "metadata": {
        "id": "WOJDY1aPEWjN"
      },
      "outputs": [],
      "source": [
        "\n",
        "# for loading/processing the images  \n",
        "from keras_preprocessing.image import load_img \n",
        "from tensorflow.keras.utils import img_to_array \n",
        "from keras.applications.vgg16 import preprocess_input \n",
        "\n",
        "# models \n",
        "from keras.applications.vgg16 import VGG16 \n",
        "from keras.models import Model\n",
        "\n",
        "# clustering and dimension reduction\n",
        "from sklearn.cluster import KMeans\n",
        "from sklearn.decomposition import PCA\n",
        "\n",
        "# for everything else\n",
        "import os\n",
        "import numpy as np\n",
        "import matplotlib.pyplot as plt\n",
        "from random import randint\n",
        "import pandas as pd\n",
        "import pickle"
      ]
    },
    {
      "cell_type": "code",
      "execution_count": 256,
      "metadata": {
        "colab": {
          "base_uri": "https://localhost:8080/"
        },
        "id": "jUomx9x9EvPS",
        "outputId": "ff16eac9-f1a7-4095-a290-86cb6bd8c067"
      },
      "outputs": [
        {
          "name": "stderr",
          "output_type": "stream",
          "text": [
            "'unzip' is not recognized as an internal or external command,\n",
            "operable program or batch file.\n"
          ]
        }
      ],
      "source": [
        "!unzip -q \"data.zip\""
      ]
    },
    {
      "cell_type": "code",
      "execution_count": 257,
      "metadata": {
        "colab": {
          "base_uri": "https://localhost:8080/"
        },
        "id": "mdid0e8FGwWC",
        "outputId": "bb5b700e-227d-4f3a-9018-c9159dc8fbbb"
      },
      "outputs": [
        {
          "data": {
            "text/plain": [
              "['16.png',\n",
              " '1643127674_57-animeshka-org-p-peacocks-eye-zhivotnie-foto-65.png',\n",
              " '1664245940_48-animeshka-org-p-medieval-city-art-vkontakte-53.png',\n",
              " '261099.png',\n",
              " '27519050f89caed71099bf6589bba38c.png',\n",
              " '5164ea719d79e4aac3d21f4a1aa2abfe.png',\n",
              " '568127-city-sky-sunset.png',\n",
              " '734b7c93407fdfc2389b6961cbcfda0a.png',\n",
              " 'alberta-2297204_1920.png',\n",
              " 'b85620657c466e10213f48118c02b640.png',\n",
              " 'beach.png',\n",
              " 'birb.png',\n",
              " 'canyon-1740973_1920.png',\n",
              " 'chinesenewyear.png',\n",
              " 'cryncat.png',\n",
              " 'Culture_blackhole_1178748615.png',\n",
              " 'cyberbug.png',\n",
              " 'da538bac62ee5e233cd82bb75b0d3c47ba0cdc03.png',\n",
              " 'hand-painted-watercolor-pastel-sky-background_23-2148901163.png',\n",
              " 'hd-wallpaper-3021072_1920.png',\n",
              " 'illust_96765396_20220328_055411.png',\n",
              " 'kumi.png',\n",
              " 'landscape-1146911_1920.png',\n",
              " 'landscape-1328858_1920.png',\n",
              " 'Logo Resmi 20 Tahun PCR RGB Medium.png',\n",
              " 'Logo-ITSA.png',\n",
              " 'logo_pcr (1).png',\n",
              " 'lunar-landscape-2308000_1920.png',\n",
              " 'ml_sky_city_china_02_x.png',\n",
              " 'mountains-1112911_1920.png',\n",
              " 'mountains-139012_1920.png',\n",
              " 'nft.png',\n",
              " 'photomode_01012023_213907.png',\n",
              " 'photomode_11012023_094559.png',\n",
              " 'retro-clock-with-flower-on-pastel-background-free-photo.png',\n",
              " 'savana.png',\n",
              " 'savana2.png',\n",
              " 'sky-1373167_1920.png',\n",
              " 'tell your wolrd.png',\n",
              " 'thumb-1920-934289.png',\n",
              " 'volcano-1728164_1920.png',\n",
              " 'waves.png',\n",
              " 'wp10673212.png']"
            ]
          },
          "execution_count": 257,
          "metadata": {},
          "output_type": "execute_result"
        }
      ],
      "source": [
        "path = r\"D:\\Projects\\ColorPallete\\data\"\n",
        "os.chdir(path)\n",
        "\n",
        "# this list holds all the image filename\n",
        "images = []\n",
        "\n",
        "# creates a ScandirIterator aliased as files\n",
        "with os.scandir(path) as files:\n",
        "  # loops through each file in the directory\n",
        "    for file in files:\n",
        "        if file.name.endswith('.png'):\n",
        "          # adds only the image files to the img list\n",
        "            images.append(file.name)\n",
        "\n",
        "images"
      ]
    },
    {
      "cell_type": "markdown",
      "metadata": {
        "id": "evaA6qaIHHVz"
      },
      "source": [
        "**Data Pre-Processing**"
      ]
    },
    {
      "cell_type": "code",
      "execution_count": 258,
      "metadata": {
        "colab": {
          "base_uri": "https://localhost:8080/"
        },
        "id": "ymY9G1WlG-U1",
        "outputId": "b742e922-5c1b-425a-89d3-276905d38a3b"
      },
      "outputs": [
        {
          "name": "stdout",
          "output_type": "stream",
          "text": [
            "(224, 224, 3)\n"
          ]
        }
      ],
      "source": [
        "# load the image as a 224x224 array\n",
        "img = load_img(images[0], target_size=(224,224))\n",
        "# convert from 'PIL.Image.Image' to numpy array\n",
        "img = np.array(img)\n",
        "\n",
        "print(img.shape)"
      ]
    },
    {
      "cell_type": "markdown",
      "metadata": {
        "id": "KmVOgXV2IMeY"
      },
      "source": [
        "**Model Untuk Feature Extraction Gambar**"
      ]
    },
    {
      "cell_type": "code",
      "execution_count": 259,
      "metadata": {
        "id": "yyyZeAexIL8o"
      },
      "outputs": [],
      "source": [
        "# load model\n",
        "model = VGG16()\n",
        "# remove the output layer\n",
        "model = Model(inputs=model.inputs, outputs=model.layers[-2].output)\n",
        "\n",
        "def extract_features(file, model):\n",
        "    # load the image as a 224x224 array\n",
        "    img = load_img(file, target_size=(224,224))\n",
        "    # convert from 'PIL.Image.Image' to numpy array\n",
        "    img = np.array(img) \n",
        "    # reshape the data for the model reshape(num_of_samples, dim 1, dim 2, channels)\n",
        "    reshaped_img = img.reshape(1,224,224,3) \n",
        "    # prepare image for model\n",
        "    imgx = preprocess_input(reshaped_img)\n",
        "    # get the feature vector\n",
        "    features = model.predict(imgx, use_multiprocessing=True)\n",
        "    return features"
      ]
    },
    {
      "cell_type": "markdown",
      "metadata": {
        "id": "mQ1GwbuRXGhn"
      },
      "source": [
        "**Feature Extraction**"
      ]
    },
    {
      "cell_type": "code",
      "execution_count": 260,
      "metadata": {
        "colab": {
          "base_uri": "https://localhost:8080/"
        },
        "id": "-Gmg4VYJIWSx",
        "outputId": "0a8cf5d3-9198-4305-ee1a-819ad6addc51"
      },
      "outputs": [
        {
          "name": "stdout",
          "output_type": "stream",
          "text": [
            "1/1 [==============================] - 0s 199ms/step\n",
            "1/1 [==============================] - 0s 120ms/step\n",
            "1/1 [==============================] - 0s 137ms/step\n",
            "1/1 [==============================] - 0s 133ms/step\n",
            "1/1 [==============================] - 0s 125ms/step\n",
            "1/1 [==============================] - 0s 119ms/step\n",
            "1/1 [==============================] - 0s 121ms/step\n",
            "1/1 [==============================] - 0s 119ms/step\n",
            "1/1 [==============================] - 0s 125ms/step\n",
            "1/1 [==============================] - 0s 118ms/step\n",
            "1/1 [==============================] - 0s 117ms/step\n",
            "1/1 [==============================] - 0s 118ms/step\n",
            "1/1 [==============================] - 0s 122ms/step\n",
            "1/1 [==============================] - 0s 118ms/step\n",
            "1/1 [==============================] - 0s 120ms/step\n",
            "1/1 [==============================] - 0s 119ms/step\n",
            "1/1 [==============================] - 0s 126ms/step\n",
            "1/1 [==============================] - 0s 143ms/step\n",
            "1/1 [==============================] - 0s 131ms/step\n",
            "1/1 [==============================] - 0s 123ms/step\n",
            "1/1 [==============================] - 0s 121ms/step\n",
            "1/1 [==============================] - 0s 119ms/step\n",
            "1/1 [==============================] - 0s 118ms/step\n",
            "1/1 [==============================] - 0s 117ms/step\n",
            "1/1 [==============================] - 0s 119ms/step\n",
            "1/1 [==============================] - 0s 131ms/step\n",
            "1/1 [==============================] - 0s 123ms/step\n",
            "1/1 [==============================] - 0s 117ms/step\n",
            "1/1 [==============================] - 0s 119ms/step\n",
            "1/1 [==============================] - 0s 117ms/step\n",
            "1/1 [==============================] - 0s 116ms/step\n",
            "1/1 [==============================] - 0s 136ms/step\n",
            "1/1 [==============================] - 0s 132ms/step\n",
            "1/1 [==============================] - 0s 129ms/step\n",
            "1/1 [==============================] - 0s 133ms/step\n",
            "1/1 [==============================] - 0s 128ms/step\n",
            "1/1 [==============================] - 0s 131ms/step\n",
            "1/1 [==============================] - 0s 118ms/step\n",
            "1/1 [==============================] - 0s 129ms/step\n",
            "1/1 [==============================] - 0s 119ms/step\n",
            "1/1 [==============================] - 0s 119ms/step\n",
            "1/1 [==============================] - 0s 120ms/step\n",
            "1/1 [==============================] - 0s 120ms/step\n"
          ]
        },
        {
          "data": {
            "text/plain": [
              "(43, 4096)"
            ]
          },
          "execution_count": 260,
          "metadata": {},
          "output_type": "execute_result"
        }
      ],
      "source": [
        "data = {}\n",
        "p = r\"D:\\Projects\\ColorPallete\"\n",
        "\n",
        "# loop through each image in the dataset\n",
        "for image in images:\n",
        "    # try to extract the features and update the dictionary\n",
        "    try:\n",
        "        feat = extract_features(image,model)\n",
        "        data[image] = feat\n",
        "    # if something fails, save the extracted features as a pickle file (optional)\n",
        "    except:\n",
        "        with open(p,'wb') as file:\n",
        "            pickle.dump(data,file)\n",
        "          \n",
        " \n",
        "# get a list of the filenames\n",
        "filenames = np.array(list(data.keys()))\n",
        "\n",
        "# get a list of just the features\n",
        "feat = np.array(list(data.values()))\n",
        "feat.shape\n",
        "\n",
        "# reshape so that there are 210 samples of 4096 vectors\n",
        "feat = feat.reshape(-1,4096)\n",
        "feat.shape"
      ]
    },
    {
      "cell_type": "code",
      "execution_count": 261,
      "metadata": {
        "id": "dR-VmxiGJzwO"
      },
      "outputs": [],
      "source": [
        "# reduce the amount of dimensions in the feature vector\n",
        "pca = PCA(n_components=43, random_state=22)\n",
        "pca.fit(feat)\n",
        "x = pca.transform(feat)"
      ]
    },
    {
      "cell_type": "markdown",
      "metadata": {
        "id": "v-MkiP11MnCb"
      },
      "source": [
        "**Evaluasi**"
      ]
    },
    {
      "cell_type": "code",
      "execution_count": 262,
      "metadata": {
        "colab": {
          "base_uri": "https://localhost:8080/",
          "height": 388
        },
        "id": "1q5odlzXKn3I",
        "outputId": "91bc096f-3667-47b8-c910-1084f253fa43"
      },
      "outputs": [
        {
          "name": "stderr",
          "output_type": "stream",
          "text": [
            "d:\\Projects\\ColorPallete\\_env\\lib\\site-packages\\sklearn\\cluster\\_kmeans.py:870: FutureWarning: The default value of `n_init` will change from 10 to 'auto' in 1.4. Set the value of `n_init` explicitly to suppress the warning\n",
            "  warnings.warn(\n",
            "d:\\Projects\\ColorPallete\\_env\\lib\\site-packages\\sklearn\\cluster\\_kmeans.py:870: FutureWarning: The default value of `n_init` will change from 10 to 'auto' in 1.4. Set the value of `n_init` explicitly to suppress the warning\n",
            "  warnings.warn(\n",
            "d:\\Projects\\ColorPallete\\_env\\lib\\site-packages\\sklearn\\cluster\\_kmeans.py:870: FutureWarning: The default value of `n_init` will change from 10 to 'auto' in 1.4. Set the value of `n_init` explicitly to suppress the warning\n",
            "  warnings.warn(\n",
            "d:\\Projects\\ColorPallete\\_env\\lib\\site-packages\\sklearn\\cluster\\_kmeans.py:870: FutureWarning: The default value of `n_init` will change from 10 to 'auto' in 1.4. Set the value of `n_init` explicitly to suppress the warning\n",
            "  warnings.warn(\n",
            "d:\\Projects\\ColorPallete\\_env\\lib\\site-packages\\sklearn\\cluster\\_kmeans.py:870: FutureWarning: The default value of `n_init` will change from 10 to 'auto' in 1.4. Set the value of `n_init` explicitly to suppress the warning\n",
            "  warnings.warn(\n",
            "d:\\Projects\\ColorPallete\\_env\\lib\\site-packages\\sklearn\\cluster\\_kmeans.py:870: FutureWarning: The default value of `n_init` will change from 10 to 'auto' in 1.4. Set the value of `n_init` explicitly to suppress the warning\n",
            "  warnings.warn(\n",
            "d:\\Projects\\ColorPallete\\_env\\lib\\site-packages\\sklearn\\cluster\\_kmeans.py:870: FutureWarning: The default value of `n_init` will change from 10 to 'auto' in 1.4. Set the value of `n_init` explicitly to suppress the warning\n",
            "  warnings.warn(\n",
            "d:\\Projects\\ColorPallete\\_env\\lib\\site-packages\\sklearn\\cluster\\_kmeans.py:870: FutureWarning: The default value of `n_init` will change from 10 to 'auto' in 1.4. Set the value of `n_init` explicitly to suppress the warning\n",
            "  warnings.warn(\n",
            "d:\\Projects\\ColorPallete\\_env\\lib\\site-packages\\sklearn\\cluster\\_kmeans.py:870: FutureWarning: The default value of `n_init` will change from 10 to 'auto' in 1.4. Set the value of `n_init` explicitly to suppress the warning\n",
            "  warnings.warn(\n",
            "d:\\Projects\\ColorPallete\\_env\\lib\\site-packages\\sklearn\\cluster\\_kmeans.py:870: FutureWarning: The default value of `n_init` will change from 10 to 'auto' in 1.4. Set the value of `n_init` explicitly to suppress the warning\n",
            "  warnings.warn(\n",
            "d:\\Projects\\ColorPallete\\_env\\lib\\site-packages\\sklearn\\cluster\\_kmeans.py:870: FutureWarning: The default value of `n_init` will change from 10 to 'auto' in 1.4. Set the value of `n_init` explicitly to suppress the warning\n",
            "  warnings.warn(\n"
          ]
        },
        {
          "data": {
            "image/png": "[encoded data removed]",
            "text/plain": [
              "<Figure size 600x600 with 1 Axes>"
            ]
          },
          "metadata": {},
          "output_type": "display_data"
        }
      ],
      "source": [
        "# this is just incase you want to see which value for k might be the best \n",
        "sse = []\n",
        "list_k = list(range(2, 13))\n",
        "\n",
        "for k in list_k:\n",
        "    km = KMeans(n_clusters=k).fit(x)\n",
        "    sse.append(km.inertia_)\n",
        "\n",
        "# Plot sse against k\n",
        "plt.figure(figsize=(6, 6))\n",
        "plt.plot(list_k, sse)\n",
        "plt.xlabel(r'Number of clusters *k*')\n",
        "plt.ylabel('Sum of squared distance');"
      ]
    },
    {
      "cell_type": "code",
      "execution_count": 263,
      "metadata": {
        "colab": {
          "base_uri": "https://localhost:8080/"
        },
        "id": "lSzKg7eFKA_B",
        "outputId": "e4da2909-a32f-4673-c140-fbae9947b39f"
      },
      "outputs": [
        {
          "name": "stderr",
          "output_type": "stream",
          "text": [
            "d:\\Projects\\ColorPallete\\_env\\lib\\site-packages\\sklearn\\cluster\\_kmeans.py:870: FutureWarning: The default value of `n_init` will change from 10 to 'auto' in 1.4. Set the value of `n_init` explicitly to suppress the warning\n",
            "  warnings.warn(\n"
          ]
        },
        {
          "data": {
            "text/plain": [
              "array([5, 6, 0, 3, 3, 0, 0, 3, 2, 1, 2, 3, 2, 3, 3, 3, 0, 1, 3, 3, 3, 1,\n",
              "       2, 0, 1, 3, 3, 0, 0, 2, 2, 2, 3, 0, 3, 3, 3, 4, 3, 3, 2, 3, 0])"
            ]
          },
          "execution_count": 263,
          "metadata": {},
          "output_type": "execute_result"
        }
      ],
      "source": [
        "# cluster feature vectors\n",
        "kmeans = KMeans(n_clusters=7, random_state=22)\n",
        "kmeans.fit(x)\n",
        "kmeans.inertia_\n",
        "kmeans.labels_"
      ]
    },
    {
      "cell_type": "markdown",
      "metadata": {
        "id": "acyQ0rAZcDR2"
      },
      "source": [
        "**Prediksi**"
      ]
    },
    {
      "cell_type": "code",
      "execution_count": 264,
      "metadata": {},
      "outputs": [
        {
          "data": {
            "text/plain": [
              "['predict (10).png',\n",
              " 'predict (11).png',\n",
              " 'predict (12).png',\n",
              " 'predict (13).png',\n",
              " 'predict (14).png',\n",
              " 'predict (15).png',\n",
              " 'predict (16).png',\n",
              " 'predict (17).png',\n",
              " 'predict (18).png',\n",
              " 'predict (19).png',\n",
              " 'predict (2).png',\n",
              " 'predict (20).png',\n",
              " 'predict (21).png',\n",
              " 'predict (22).png',\n",
              " 'predict (23).png',\n",
              " 'predict (24).png',\n",
              " 'predict (25).png',\n",
              " 'predict (26).png',\n",
              " 'predict (27).png',\n",
              " 'predict (28).png',\n",
              " 'predict (29).png',\n",
              " 'predict (3).png',\n",
              " 'predict (30).png',\n",
              " 'predict (31).png',\n",
              " 'predict (32).png',\n",
              " 'predict (33).png',\n",
              " 'predict (34).png',\n",
              " 'predict (35).png',\n",
              " 'predict (36).png',\n",
              " 'predict (37).png',\n",
              " 'predict (38).png',\n",
              " 'predict (39).png',\n",
              " 'predict (4).png',\n",
              " 'predict (40).png',\n",
              " 'predict (41).png',\n",
              " 'predict (42).png',\n",
              " 'predict (43).png',\n",
              " 'predict (44).png',\n",
              " 'predict (5).png',\n",
              " 'predict (6).png',\n",
              " 'predict (7).png',\n",
              " 'predict (8).png',\n",
              " 'predict (9).png',\n",
              " 'predict.png']"
            ]
          },
          "execution_count": 264,
          "metadata": {},
          "output_type": "execute_result"
        }
      ],
      "source": [
        "os.chdir(\"D:\\Projects\\ColorPallete\")\n",
        "\n",
        "path = r\"D:\\Projects\\ColorPallete\\predict\"\n",
        "os.chdir(path)\n",
        "\n",
        "# this list holds all the image filename\n",
        "predict_img = []\n",
        "\n",
        "# creates a ScandirIterator aliased as files\n",
        "with os.scandir(path) as files:\n",
        "  # loops through each file in the directory\n",
        "    for file in files:\n",
        "        if file.name.endswith('.png'):\n",
        "          # adds only the image files to the img list\n",
        "            predict_img.append(file.name)\n",
        "\n",
        "predict_img"
      ]
    },
    {
      "cell_type": "code",
      "execution_count": 265,
      "metadata": {
        "colab": {
          "base_uri": "https://localhost:8080/"
        },
        "id": "1IhNDrcjc3ez",
        "outputId": "ba2fadaa-c936-45c2-b283-fb357b6ca533"
      },
      "outputs": [
        {
          "name": "stdout",
          "output_type": "stream",
          "text": [
            "1/1 [==============================] - 0s 123ms/step\n",
            "1/1 [==============================] - 0s 151ms/step\n",
            "1/1 [==============================] - 0s 147ms/step\n",
            "1/1 [==============================] - 0s 140ms/step\n",
            "1/1 [==============================] - 0s 128ms/step\n",
            "1/1 [==============================] - 0s 129ms/step\n",
            "1/1 [==============================] - 0s 123ms/step\n",
            "1/1 [==============================] - 0s 118ms/step\n",
            "1/1 [==============================] - 0s 116ms/step\n",
            "1/1 [==============================] - 0s 126ms/step\n",
            "1/1 [==============================] - 0s 120ms/step\n",
            "1/1 [==============================] - 0s 116ms/step\n",
            "1/1 [==============================] - 0s 127ms/step\n",
            "1/1 [==============================] - 0s 121ms/step\n",
            "1/1 [==============================] - 0s 117ms/step\n",
            "1/1 [==============================] - 0s 118ms/step\n",
            "1/1 [==============================] - 0s 117ms/step\n",
            "1/1 [==============================] - 0s 117ms/step\n",
            "1/1 [==============================] - 0s 116ms/step\n",
            "1/1 [==============================] - 0s 124ms/step\n",
            "1/1 [==============================] - 0s 119ms/step\n",
            "1/1 [==============================] - 0s 122ms/step\n",
            "1/1 [==============================] - 0s 123ms/step\n",
            "1/1 [==============================] - 0s 116ms/step\n",
            "1/1 [==============================] - 0s 127ms/step\n",
            "1/1 [==============================] - 0s 130ms/step\n",
            "1/1 [==============================] - 0s 140ms/step\n",
            "1/1 [==============================] - 0s 120ms/step\n",
            "1/1 [==============================] - 0s 128ms/step\n",
            "1/1 [==============================] - 0s 132ms/step\n",
            "1/1 [==============================] - 0s 125ms/step\n",
            "1/1 [==============================] - 0s 126ms/step\n",
            "1/1 [==============================] - 0s 123ms/step\n",
            "1/1 [==============================] - 0s 118ms/step\n",
            "1/1 [==============================] - 0s 122ms/step\n",
            "1/1 [==============================] - 0s 133ms/step\n",
            "1/1 [==============================] - 0s 134ms/step\n",
            "1/1 [==============================] - 0s 121ms/step\n",
            "1/1 [==============================] - 0s 117ms/step\n",
            "1/1 [==============================] - 0s 122ms/step\n",
            "1/1 [==============================] - 0s 115ms/step\n",
            "1/1 [==============================] - 0s 120ms/step\n",
            "1/1 [==============================] - 0s 115ms/step\n",
            "1/1 [==============================] - 0s 122ms/step\n"
          ]
        },
        {
          "data": {
            "text/plain": [
              "(44, 4096)"
            ]
          },
          "execution_count": 265,
          "metadata": {},
          "output_type": "execute_result"
        }
      ],
      "source": [
        "predict_data = {}\n",
        "p = r\"D:\\Projects\\ColorPallete\"\n",
        "\n",
        "# loop through each image in the dataset\n",
        "for image in predict_img:\n",
        "    # try to extract the features and update the dictionary\n",
        "    try:\n",
        "        feat = extract_features(image,model)\n",
        "        predict_data[image] = feat\n",
        "    # if something fails, save the extracted features as a pickle file (optional)\n",
        "    except:\n",
        "        with open(p,'wb') as file:\n",
        "            pickle.dump(predict_data,file)\n",
        "          \n",
        " \n",
        "# get a list of the filenames\n",
        "filenames = np.array(list(predict_data.keys()))\n",
        "\n",
        "# get a list of just the features\n",
        "predictFeat = np.array(list(predict_data.values()))\n",
        "predictFeat.shape\n",
        "\n",
        "# reshape so that there are 210 samples of 4096 vectors\n",
        "predictFeat = predictFeat.reshape(-1,4096)\n",
        "predictFeat.shape"
      ]
    },
    {
      "cell_type": "code",
      "execution_count": 266,
      "metadata": {
        "id": "cW-kAKolcQr3"
      },
      "outputs": [],
      "source": [
        "# reduce the amount of dimensions in the feature vector\n",
        "pca = PCA(n_components=43, random_state=22)\n",
        "pca.fit(predictFeat)\n",
        "pred = pca.transform(predictFeat)"
      ]
    },
    {
      "cell_type": "code",
      "execution_count": 267,
      "metadata": {
        "colab": {
          "base_uri": "https://localhost:8080/"
        },
        "id": "PpNljsjhdH5W",
        "outputId": "593c931c-b5b6-4f5d-807b-e7be8f1d0510"
      },
      "outputs": [
        {
          "data": {
            "text/plain": [
              "array([1, 3, 3, 3, 3, 0, 0, 4, 0, 2, 0, 0, 3, 3, 2, 3, 0, 3, 0, 1, 3, 0,\n",
              "       3, 3, 0, 0, 3, 2, 0, 2, 0, 0, 0, 2, 3, 2, 3, 3, 0, 3, 3, 3, 1, 5])"
            ]
          },
          "execution_count": 267,
          "metadata": {},
          "output_type": "execute_result"
        }
      ],
      "source": [
        "kmeans.predict(pred)"
      ]
    },
    {
      "cell_type": "code",
      "execution_count": 268,
      "metadata": {
        "id": "S61yAkB5eckF"
      },
      "outputs": [],
      "source": [
        "os.chdir(\"D:\\Projects\\ColorPallete\")\n",
        "pickle.dump(kmeans, open(\"k-Means.pkl\", 'wb'))"
      ]
    },
    {
      "cell_type": "code",
      "execution_count": 269,
      "metadata": {
        "id": "5osSUaD9fEc0"
      },
      "outputs": [],
      "source": [
        "# # load the model from disk\n",
        "# loaded_model = pickle.load(open(\"k-Means.pkl\", 'rb'))\n",
        "\n",
        "# #Feature Extraction dulu, baru PCA then predict\n",
        "\n",
        "# result = loaded_model.predict(pred)\n",
        "# print(result)"
      ]
    },
    {
      "cell_type": "markdown",
      "metadata": {
        "id": "5C-GSPNvfYhc"
      },
      "source": [
        "**Abaikan yg di bawah ppk SNJ**"
      ]
    },
    {
      "cell_type": "code",
      "execution_count": 270,
      "metadata": {
        "colab": {
          "base_uri": "https://localhost:8080/",
          "height": 1000
        },
        "id": "54xyvaHfPskc",
        "outputId": "cf223214-0559-4cdb-f5a2-2b5039612af4"
      },
      "outputs": [],
      "source": [
        "# from yellowbrick.cluster import SilhouetteVisualizer\n",
        "# from sklearn.metrics import  silhouette_score\n",
        "\n",
        "# fig, ax = plt.subplots(6, 2, figsize=(15,15))\n",
        "# for i in list_k:\n",
        "#     '''\n",
        "#     Create KMeans instance for different number of clusters\n",
        "#     '''\n",
        "#     km = KMeans(n_clusters=i, init='k-means++', n_init=10, max_iter=100, random_state=42)\n",
        "#     q, mod = divmod(i, 2)\n",
        "    \n",
        "#     km.fit(x)\n",
        "#     score = silhouette_score(x, km.labels_, metric='euclidean')\n",
        "#     # print('Silhouette Score \\i: %.3f' % score)\n",
        "#     print('Silhouette Score n=', i, 'is', score)\n",
        "#     '''\n",
        "#     Create SilhouetteVisualizer instance with KMeans instance\n",
        "#     Fit the visualizer\n",
        "#     '''\n",
        "#     visualizer = SilhouetteVisualizer(km, colors='yellowbrick', ax=ax[q-1][mod])\n",
        "#     visualizer.fit(x)"
      ]
    }
  ],
  "metadata": {
    "colab": {
      "provenance": []
    },
    "kernelspec": {
      "display_name": "_env",
      "language": "python",
      "name": "python3"
    },
    "language_info": {
      "codemirror_mode": {
        "name": "ipython",
        "version": 3
      },
      "file_extension": ".py",
      "mimetype": "text/x-python",
      "name": "python",
      "nbconvert_exporter": "python",
      "pygments_lexer": "ipython3",
      "version": "3.10.9"
    },
    "vscode": {
      "interpreter": {
        "hash": "afe9f8a0a4151d5a6e34a3e26ff737876129e8865b91f653cbb25a425d890cbc"
      }
    }
  },
  "nbformat": 4,
  "nbformat_minor": 0
}
